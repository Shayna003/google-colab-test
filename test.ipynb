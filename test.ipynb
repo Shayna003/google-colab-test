{
  "nbformat": 4,
  "nbformat_minor": 0,
  "metadata": {
    "colab": {
      "provenance": [],
      "authorship_tag": "ABX9TyNCsiWSpMfQxhfCgbTVtzdl",
      "include_colab_link": true
    },
    "kernelspec": {
      "name": "python3",
      "display_name": "Python 3"
    },
    "language_info": {
      "name": "python"
    }
  },
  "cells": [
    {
      "cell_type": "markdown",
      "metadata": {
        "id": "view-in-github",
        "colab_type": "text"
      },
      "source": [
        "<a href=\"https://colab.research.google.com/github/Shayna003/google-colab-test/blob/main/test.ipynb\" target=\"_parent\"><img src=\"https://colab.research.google.com/assets/colab-badge.svg\" alt=\"Open In Colab\"/></a>"
      ]
    },
    {
      "cell_type": "markdown",
      "source": [
        "import libraries and set up the environment"
      ],
      "metadata": {
        "id": "1sJ9Yy0udvwb"
      }
    },
    {
      "cell_type": "code",
      "source": [
        "!pip install -r requirements.txt\n",
        "\n",
        "import string\n",
        "import pandas as pd\n",
        "from nltk.corpus import stopwords\n",
        "import nltk\n",
        "import spacy"
      ],
      "metadata": {
        "id": "nRR5rSQGcaB6"
      },
      "execution_count": null,
      "outputs": []
    },
    {
      "cell_type": "markdown",
      "source": [
        "preprocessing using nltk library"
      ],
      "metadata": {
        "id": "jnaHolOUd4SL"
      }
    },
    {
      "cell_type": "code",
      "execution_count": null,
      "metadata": {
        "id": "ywe0Cu7Rbcwr"
      },
      "outputs": [],
      "source": [
        "\n",
        "\n",
        "nltk.download('stopwords')\n",
        "nltk.download('wordnet')\n",
        "lemmatizer = nltk.stem.WordNetLemmatizer()\n",
        "tokeniser = nltk.tokenize.WhitespaceTokenizer()\n",
        "\n",
        "\n",
        "def pre_processing():\n",
        "    file_url = 'github_url'\n",
        "    ReviewsFile = pd.read_csv(file_url) #reads dataset\n",
        "    nlp = spacy.blank('en')\n",
        "    ReviewsFile['text'] = ReviewsFile['text'].astype(str).str.lower() #makes all reviews lowercase\n",
        "    punct = \"\\n\\r\" + string.punctuation\n",
        "    ReviewsFile['text'] = ReviewsFile['text'].str.translate(str.maketrans('', '', punct)) #removes all punctuation\n",
        "    stop = stopwords.words('english')\n",
        "    ReviewsFile['text'] = ReviewsFile['text'].apply(lambda x: ' '.join([word for word in x.split() if word not in (stop)])) # removes stopwords\n",
        "    ReviewsFile['text'].apply(lemmatisation)  #lemmatisation : changing words with same meaning into one word\n",
        "\n",
        "def lemmatisation(text):\n",
        "    return [lemmatizer.lemmatize(w) for w in tokeniser.tokenize(text)]\n",
        "\n",
        "pre_processing()"
      ]
    }
  ]
}